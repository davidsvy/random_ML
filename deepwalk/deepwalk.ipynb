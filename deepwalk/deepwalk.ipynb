{
  "nbformat": 4,
  "nbformat_minor": 0,
  "metadata": {
    "kernelspec": {
      "display_name": "Python 3",
      "language": "python",
      "name": "python3"
    },
    "language_info": {
      "codemirror_mode": {
        "name": "ipython",
        "version": 3
      },
      "file_extension": ".py",
      "mimetype": "text/x-python",
      "name": "python",
      "nbconvert_exporter": "python",
      "pygments_lexer": "ipython3",
      "version": "3.7.3"
    },
    "colab": {
      "name": "deepwalk.ipynb",
      "provenance": [],
      "collapsed_sections": []
    },
    "accelerator": "GPU"
  },
  "cells": [
    {
      "cell_type": "code",
      "metadata": {
        "id": "s_dCcDejs355",
        "colab_type": "code",
        "colab": {}
      },
      "source": [
        "import numpy as np\n",
        "import os\n",
        "import re\n",
        "from tqdm import tqdm\n",
        "from gensim.models import Word2Vec\n",
        "from multiprocessing import cpu_count\n",
        "import tensorflow as tf\n",
        "from tensorflow import keras\n",
        "from tensorflow.keras.layers import Dense, Dropout, Input, Embedding, Concatenate\n",
        "from tensorflow.keras import Model\n",
        "import tensorflow.keras.backend as K\n",
        "from sklearn.model_selection import train_test_split\n",
        "from sklearn.decomposition import KernelPCA\n",
        "from sklearn.feature_selection import SelectPercentile, chi2\n",
        "import warnings\n",
        "warnings.filterwarnings(\"ignore\")\n",
        "\n"
      ],
      "execution_count": 0,
      "outputs": []
    },
    {
      "cell_type": "markdown",
      "metadata": {
        "id": "4tUxOLH2s359",
        "colab_type": "text"
      },
      "source": [
        "## Reading and preprocessing input data\n",
        "\n",
        "The [Cora](https://linqs.soe.ucsc.edu/data) dataset is used for this task. The dataset consists of 2708 scientific publications classified into one of seven classes. Each publication (node) has features in the form of BoW. The citation network consists of 5429 links. The given citations form a graph. The dataset contains 2 files:\n",
        "* `cora.content`, which contains the vocabulary of each paper as a BoW.\n",
        "* `cora.cites`, that includes the ciatations of each paper (links of graph).\n",
        "Although, one would think that a citation network would be a DAG, since the a cited paper is published before the citing one. However, the given dataset is not, as there exist pairs of publications that cite eachother forming cycles."
      ]
    },
    {
      "cell_type": "code",
      "metadata": {
        "id": "dJuz2H2ls359",
        "colab_type": "code",
        "colab": {}
      },
      "source": [
        "def read_files(path):\n",
        "    \n",
        "    content_path = os.path.join(path, 'cora.content')\n",
        "    cites_path = os.path.join(path, 'cora.cites')\n",
        "\n",
        "    bow = []\n",
        "    real_idx = {}\n",
        "    labels = []\n",
        "    \n",
        "    with open(content_path, 'r', encoding = 'UTF-8') as file:\n",
        "        \n",
        "        for idx, line in enumerate(file):\n",
        "            \n",
        "            splt = line.rstrip().split()\n",
        "            real_idx[int(splt[0])] = idx\n",
        "            labels.append(splt[-1])\n",
        "            bow.append([int(x) for x in splt[1:-1]])\n",
        "            \n",
        "    bow = np.asarray(bow)\n",
        "    citations = [[] for _ in range(len(labels))]\n",
        "    labels_set = set(labels)\n",
        "    num_classes = len(labels_set)\n",
        "    label2int, int2label = {}, {}\n",
        "    for idx, label in enumerate(labels_set):\n",
        "        label2int[label] = idx\n",
        "        int2label[idx] = label\n",
        "    \n",
        "    labels = np.array([label2int[label] for label in labels])\n",
        "    labels = keras.utils.to_categorical(labels, num_classes = num_classes)\n",
        "    num_cited = np.zeros(len(labels))\n",
        "    num_citing = np.zeros(len(labels))\n",
        "    \n",
        "    with open(cites_path, 'r', encoding = 'UTF-8') as file:\n",
        "        \n",
        "        for line in file:\n",
        "            \n",
        "            cited, citing = [real_idx[int(idx)] for idx in line.rstrip().split()]\n",
        "            num_cited[cited] += 1\n",
        "            num_citing[citing] += 1\n",
        "            \n",
        "            citations[citing].append(cited)\n",
        "            \n",
        "        citations = np.asarray(citations)\n",
        "            \n",
        "    return bow, citations, labels, num_cited, num_citing, num_classes\n",
        "            \n",
        "            "
      ],
      "execution_count": 0,
      "outputs": []
    },
    {
      "cell_type": "code",
      "metadata": {
        "id": "0Ntp-E7Ttxf9",
        "colab_type": "code",
        "outputId": "80b2e5f1-b963-4963-e4f5-8d80da8a0987",
        "colab": {
          "base_uri": "https://localhost:8080/",
          "height": 202
        }
      },
      "source": [
        "!wget \"https://linqs-data.soe.ucsc.edu/public/lbc/cora.tgz\""
      ],
      "execution_count": 0,
      "outputs": [
        {
          "output_type": "stream",
          "text": [
            "--2020-05-13 15:46:47--  https://linqs-data.soe.ucsc.edu/public/lbc/cora.tgz\n",
            "Resolving linqs-data.soe.ucsc.edu (linqs-data.soe.ucsc.edu)... 128.114.47.74\n",
            "Connecting to linqs-data.soe.ucsc.edu (linqs-data.soe.ucsc.edu)|128.114.47.74|:443... connected.\n",
            "HTTP request sent, awaiting response... 200 OK\n",
            "Length: 167063 (163K) [application/x-gzip]\n",
            "Saving to: ‘cora.tgz’\n",
            "\n",
            "cora.tgz            100%[===================>] 163.15K   812KB/s    in 0.2s    \n",
            "\n",
            "2020-05-13 15:46:48 (812 KB/s) - ‘cora.tgz’ saved [167063/167063]\n",
            "\n"
          ],
          "name": "stdout"
        }
      ]
    },
    {
      "cell_type": "code",
      "metadata": {
        "id": "BzpP-oe3t_wg",
        "colab_type": "code",
        "outputId": "f55f0128-78d6-447b-ff0b-ee5f50e7a254",
        "colab": {
          "base_uri": "https://localhost:8080/",
          "height": 84
        }
      },
      "source": [
        "!tar zxvf cora.tgz"
      ],
      "execution_count": 0,
      "outputs": [
        {
          "output_type": "stream",
          "text": [
            "cora/\n",
            "cora/README\n",
            "cora/cora.content\n",
            "cora/cora.cites\n"
          ],
          "name": "stdout"
        }
      ]
    },
    {
      "cell_type": "code",
      "metadata": {
        "id": "tp6Hs3Hhs36B",
        "colab_type": "code",
        "colab": {}
      },
      "source": [
        "path = os.path.join(os.getcwd(), 'cora')\n",
        "bow, citations, labels, num_cited, num_citing, num_classes = read_files(path)\n"
      ],
      "execution_count": 0,
      "outputs": []
    },
    {
      "cell_type": "markdown",
      "metadata": {
        "id": "G_knwqRDs36E",
        "colab_type": "text"
      },
      "source": [
        "Every node in the citation graph has at least one edge."
      ]
    },
    {
      "cell_type": "code",
      "metadata": {
        "id": "IV95f8cxs36E",
        "colab_type": "code",
        "outputId": "3d60a285-f380-42bc-bd72-6925a525937a",
        "colab": {
          "base_uri": "https://localhost:8080/",
          "height": 50
        }
      },
      "source": [
        "total_cites = num_cited + num_citing\n",
        "most_isolated = np.argmin(total_cites)\n",
        "print('Most isolated paper: {} with {} links'.format(most_isolated, total_cites[most_isolated]))\n",
        "most_connected = np.argmax(total_cites)\n",
        "print('Most connected paper: {} with {} links'.format(most_connected, total_cites[most_connected]))"
      ],
      "execution_count": 0,
      "outputs": [
        {
          "output_type": "stream",
          "text": [
            "Most isolated paper: 1 with 1.0 links\n",
            "Most connected paper: 163 with 169.0 links\n"
          ],
          "name": "stdout"
        }
      ]
    },
    {
      "cell_type": "markdown",
      "metadata": {
        "id": "ey9h7EF_s36I",
        "colab_type": "text"
      },
      "source": [
        "A very basic implementation of [deepwalk](https://arxiv.org/abs/1403.6652). A slight augmentation to the algorithm is that during the random walks, we keep the number of visits to each node. These can be used as weights when we choose a random neighbouring node i.e. nodes visited the least have the largest probability of being visited. This ensures that all the nodes of the graph are visited sufficient amount of times for the embeddings to be generated properly. The inspiration for this trick was [PER](https://arxiv.org/abs/1511.05952)."
      ]
    },
    {
      "cell_type": "code",
      "metadata": {
        "id": "PUvz3TbCs36J",
        "colab_type": "code",
        "colab": {}
      },
      "source": [
        "def deepwalk(adj_list, max_length, num_walks):\n",
        "    \n",
        "    num_nodes = adj_list.shape[0]\n",
        "    num_visits = np.zeros(num_nodes)\n",
        "    walks = []\n",
        "    \n",
        "    for _ in tqdm(range(num_walks)):\n",
        "        \n",
        "        node = np.random.randint(num_nodes)\n",
        "        walk = [node]\n",
        "        \n",
        "        while len(walk) < max_length:\n",
        "        \n",
        "            if  not len(adj_list[node]):\n",
        "                break\n",
        "            \n",
        "            weights = 1 / (1 + num_visits[adj_list[node]]) ** 0.6\n",
        "            weights = weights / np.sum(weights)\n",
        "            node = np.random.choice(adj_list[node], p = weights)\n",
        "            walk.append(node)\n",
        "            \n",
        "        if len(walk) > 1:\n",
        "            \n",
        "            num_visits[walk] += 1\n",
        "            walks.append([str(node) for node in walk])\n",
        "            \n",
        "    return num_visits, walks\n",
        "            \n",
        "            \n",
        "        "
      ],
      "execution_count": 0,
      "outputs": []
    },
    {
      "cell_type": "markdown",
      "metadata": {
        "id": "UsXqp5u4s36L",
        "colab_type": "text"
      },
      "source": [
        "The following function returns the nodes' embeddings. The embeddings are created by the gensim library. The word2vec function only accepts a list of lists of strings as input, which means that the nodes have to represented as strings rathers than ontegers."
      ]
    },
    {
      "cell_type": "code",
      "metadata": {
        "id": "jGcuUrBLs36M",
        "colab_type": "code",
        "colab": {}
      },
      "source": [
        "def get_emb_weights(walks, emb_dim, workers, window, epochs, num_nodes):\n",
        "    \n",
        "    model = Word2Vec(walks, \n",
        "                 min_count=3, \n",
        "                 size=emb_dim,                \n",
        "                 workers=workers,              \n",
        "                 window=window,   \n",
        "                 iter=epochs)\n",
        "    \n",
        "    os.chdir(path)\n",
        "    model.wv.save_word2vec_format('model_{}.txt'.format(emb_dim), binary=False)\n",
        "    \n",
        "    emb_weights = np.zeros((num_nodes, emb_dim))\n",
        "    for node in model.wv.vocab:\n",
        "        emb_weights[int(node)] = model[node]\n",
        "        \n",
        "    return emb_weights"
      ],
      "execution_count": 0,
      "outputs": []
    },
    {
      "cell_type": "markdown",
      "metadata": {
        "id": "oAYhbe_Ks36O",
        "colab_type": "text"
      },
      "source": [
        "The parameters for the training"
      ]
    },
    {
      "cell_type": "code",
      "metadata": {
        "id": "ovkBJpyms36P",
        "colab_type": "code",
        "colab": {}
      },
      "source": [
        "num_walks = 300000\n",
        "max_length = 15\n",
        "min_count = 3\n",
        "emb_dim = 256\n",
        "workers = cpu_count()\n",
        "window = 2\n",
        "word2vec_epochs = 20\n",
        "clf_epochs = 50\n",
        "num_nodes = len(labels)\n",
        "num_bow = bow.shape[1]"
      ],
      "execution_count": 0,
      "outputs": []
    },
    {
      "cell_type": "code",
      "metadata": {
        "id": "nFxkk_Hks36R",
        "colab_type": "code",
        "outputId": "914eacec-051c-473f-f6ab-afff1b5579ad",
        "colab": {
          "base_uri": "https://localhost:8080/",
          "height": 34
        }
      },
      "source": [
        "num_visits, walks = deepwalk(citations, max_length, num_walks)"
      ],
      "execution_count": 0,
      "outputs": [
        {
          "output_type": "stream",
          "text": [
            "100%|██████████| 300000/300000 [02:02<00:00, 2455.35it/s]\n"
          ],
          "name": "stderr"
        }
      ]
    },
    {
      "cell_type": "markdown",
      "metadata": {
        "id": "K6hRh5DFs36U",
        "colab_type": "text"
      },
      "source": [
        "Each node of the graph is visited, although some are visted much more than others. This can be attributed to cycles in the graph formed by publications mutually citing each other."
      ]
    },
    {
      "cell_type": "code",
      "metadata": {
        "id": "Cq_Kq8PYs36U",
        "colab_type": "code",
        "outputId": "5da3f64e-5775-4d50-b936-c3039efce22f",
        "colab": {
          "base_uri": "https://localhost:8080/",
          "height": 50
        }
      },
      "source": [
        "print('Maximum number of visits to a node: {}'.format(np.max(num_visits)))\n",
        "print('Minimum number of visits to a node: {}'.format(np.min(num_visits)))\n"
      ],
      "execution_count": 0,
      "outputs": [
        {
          "output_type": "stream",
          "text": [
            "Maximum number of visits to a node: 22538.0\n",
            "Minimum number of visits to a node: 32.0\n"
          ],
          "name": "stdout"
        }
      ]
    },
    {
      "cell_type": "code",
      "metadata": {
        "id": "mrndBP04s36X",
        "colab_type": "code",
        "colab": {}
      },
      "source": [
        "emb_weights = get_emb_weights(walks, emb_dim, workers, window, word2vec_epochs, num_nodes)"
      ],
      "execution_count": 0,
      "outputs": []
    },
    {
      "cell_type": "markdown",
      "metadata": {
        "id": "zJuU7GKxs36a",
        "colab_type": "text"
      },
      "source": [
        "# First approach: only embeddings as input\n",
        "---\n",
        "A very basic NN used to classify a node given only its embedding. In order to minimize overfitting droput is heavily used. I also tried using label_smoothing and selu instead of relu but there were no tangible improvements on the test set."
      ]
    },
    {
      "cell_type": "code",
      "metadata": {
        "id": "hiWE9SbXs36a",
        "colab_type": "code",
        "colab": {}
      },
      "source": [
        "def create_clf1(dropout, smoothing):\n",
        "    \n",
        "    assert 0.0 < dropout < 1.0\n",
        "    \n",
        "    embedding_layer = Embedding(input_dim = num_nodes,\n",
        "                            output_dim = emb_dim,\n",
        "                            weights=[emb_weights],\n",
        "                            trainable=False,\n",
        "                            input_length = 1)\n",
        "    \n",
        "    input_ = Input(shape = ())#shape = None)\n",
        "    x = embedding_layer(input_)\n",
        "    x = Dense(256, activation = 'relu') (x)\n",
        "    x = Dropout(dropout) (x)\n",
        "    x = Dense(128, activation = 'relu') (x)\n",
        "    x = Dropout(dropout) (x)\n",
        "    output_ = Dense(num_classes, activation = 'softmax') (x)\n",
        "    \n",
        "    clf = Model(inputs = [input_], outputs = [output_])\n",
        "    \n",
        "    loss = keras.losses.CategoricalCrossentropy(\n",
        "        label_smoothing=smoothing)\n",
        "    \n",
        "    clf.compile(optimizer = 'adam', loss = loss, metrics = ['accuracy'])\n",
        "    \n",
        "    return clf"
      ],
      "execution_count": 0,
      "outputs": []
    },
    {
      "cell_type": "code",
      "metadata": {
        "id": "Mxjv7Z2ts36d",
        "colab_type": "code",
        "outputId": "55f70382-0f79-470a-9027-69470837734b",
        "colab": {
          "base_uri": "https://localhost:8080/",
          "height": 403
        }
      },
      "source": [
        "clf1 = create_clf1(0.4, 0.0)\n",
        "print(clf1.summary())\n"
      ],
      "execution_count": 0,
      "outputs": [
        {
          "output_type": "stream",
          "text": [
            "Model: \"model\"\n",
            "_________________________________________________________________\n",
            "Layer (type)                 Output Shape              Param #   \n",
            "=================================================================\n",
            "input_1 (InputLayer)         [(None,)]                 0         \n",
            "_________________________________________________________________\n",
            "embedding (Embedding)        (None, 256)               693248    \n",
            "_________________________________________________________________\n",
            "dense (Dense)                (None, 256)               65792     \n",
            "_________________________________________________________________\n",
            "dropout (Dropout)            (None, 256)               0         \n",
            "_________________________________________________________________\n",
            "dense_1 (Dense)              (None, 128)               32896     \n",
            "_________________________________________________________________\n",
            "dropout_1 (Dropout)          (None, 128)               0         \n",
            "_________________________________________________________________\n",
            "dense_2 (Dense)              (None, 7)                 903       \n",
            "=================================================================\n",
            "Total params: 792,839\n",
            "Trainable params: 99,591\n",
            "Non-trainable params: 693,248\n",
            "_________________________________________________________________\n",
            "None\n"
          ],
          "name": "stdout"
        }
      ]
    },
    {
      "cell_type": "code",
      "metadata": {
        "id": "YX6YzWcMs36f",
        "colab_type": "code",
        "outputId": "b854f212-8401-449e-a419-55506e3a03de",
        "colab": {
          "base_uri": "https://localhost:8080/",
          "height": 754
        }
      },
      "source": [
        "keras.utils.plot_model(clf1, to_file='model_plot.png', show_shapes=True, show_layer_names=True)"
      ],
      "execution_count": 0,
      "outputs": [
        {
          "output_type": "execute_result",
          "data": {
            "image/png": "[encoded data removed]",
            "text/plain": [
              "<IPython.core.display.Image object>"
            ]
          },
          "metadata": {
            "tags": []
          },
          "execution_count": 19
        }
      ]
    },
    {
      "cell_type": "markdown",
      "metadata": {
        "id": "-CFAaaNEs36h",
        "colab_type": "text"
      },
      "source": [
        "The nodes are randomly split between train set and test set"
      ]
    },
    {
      "cell_type": "code",
      "metadata": {
        "id": "MxmLtB98s36i",
        "colab_type": "code",
        "colab": {}
      },
      "source": [
        "x = np.arange(num_nodes)\n",
        "\n",
        "x_train, x_test, y_train, y_test = train_test_split(x, labels, test_size = 0.25)"
      ],
      "execution_count": 0,
      "outputs": []
    },
    {
      "cell_type": "code",
      "metadata": {
        "collapsed": true,
        "id": "-_OiRDN1s36l",
        "colab_type": "code",
        "outputId": "e2617073-6317-47d9-d7b2-b5defb3ab4a9",
        "colab": {
          "base_uri": "https://localhost:8080/",
          "height": 1000
        }
      },
      "source": [
        "clf1.fit(x_train, y_train, epochs = 130, batch_size = 32)"
      ],
      "execution_count": 0,
      "outputs": [
        {
          "output_type": "stream",
          "text": [
            "Epoch 1/130\n",
            "64/64 [==============================] - 0s 4ms/step - loss: 1.5646 - accuracy: 0.4505\n",
            "Epoch 2/130\n",
            "64/64 [==============================] - 0s 4ms/step - loss: 1.1598 - accuracy: 0.6268\n",
            "Epoch 3/130\n",
            "64/64 [==============================] - 0s 4ms/step - loss: 0.9506 - accuracy: 0.6982\n",
            "Epoch 4/130\n",
            "64/64 [==============================] - 0s 4ms/step - loss: 0.8415 - accuracy: 0.7312\n",
            "Epoch 5/130\n",
            "64/64 [==============================] - 0s 4ms/step - loss: 0.7619 - accuracy: 0.7582\n",
            "Epoch 6/130\n",
            "64/64 [==============================] - 0s 4ms/step - loss: 0.6913 - accuracy: 0.7725\n",
            "Epoch 7/130\n",
            "64/64 [==============================] - 0s 4ms/step - loss: 0.6173 - accuracy: 0.8055\n",
            "Epoch 8/130\n",
            "64/64 [==============================] - 0s 4ms/step - loss: 0.5646 - accuracy: 0.8208\n",
            "Epoch 9/130\n",
            "64/64 [==============================] - 0s 4ms/step - loss: 0.5412 - accuracy: 0.8370\n",
            "Epoch 10/130\n",
            "64/64 [==============================] - 0s 4ms/step - loss: 0.5112 - accuracy: 0.8395\n",
            "Epoch 11/130\n",
            "64/64 [==============================] - 0s 4ms/step - loss: 0.4763 - accuracy: 0.8538\n",
            "Epoch 12/130\n",
            "64/64 [==============================] - 0s 4ms/step - loss: 0.4532 - accuracy: 0.8528\n",
            "Epoch 13/130\n",
            "64/64 [==============================] - 0s 4ms/step - loss: 0.4200 - accuracy: 0.8621\n",
            "Epoch 14/130\n",
            "64/64 [==============================] - 0s 4ms/step - loss: 0.4036 - accuracy: 0.8671\n",
            "Epoch 15/130\n",
            "64/64 [==============================] - 0s 4ms/step - loss: 0.3806 - accuracy: 0.8685\n",
            "Epoch 16/130\n",
            "64/64 [==============================] - 0s 4ms/step - loss: 0.3742 - accuracy: 0.8774\n",
            "Epoch 17/130\n",
            "64/64 [==============================] - 0s 4ms/step - loss: 0.3634 - accuracy: 0.8735\n",
            "Epoch 18/130\n",
            "64/64 [==============================] - 0s 4ms/step - loss: 0.3425 - accuracy: 0.8917\n",
            "Epoch 19/130\n",
            "64/64 [==============================] - 0s 4ms/step - loss: 0.3225 - accuracy: 0.8922\n",
            "Epoch 20/130\n",
            "64/64 [==============================] - 0s 4ms/step - loss: 0.2939 - accuracy: 0.9030\n",
            "Epoch 21/130\n",
            "64/64 [==============================] - 0s 4ms/step - loss: 0.3017 - accuracy: 0.9015\n",
            "Epoch 22/130\n",
            "64/64 [==============================] - 0s 4ms/step - loss: 0.2755 - accuracy: 0.9104\n",
            "Epoch 23/130\n",
            "64/64 [==============================] - 0s 4ms/step - loss: 0.2734 - accuracy: 0.9163\n",
            "Epoch 24/130\n",
            "64/64 [==============================] - 0s 4ms/step - loss: 0.2634 - accuracy: 0.9143\n",
            "Epoch 25/130\n",
            "64/64 [==============================] - 0s 4ms/step - loss: 0.2503 - accuracy: 0.9193\n",
            "Epoch 26/130\n",
            "64/64 [==============================] - 0s 4ms/step - loss: 0.2179 - accuracy: 0.9330\n",
            "Epoch 27/130\n",
            "64/64 [==============================] - 0s 4ms/step - loss: 0.2499 - accuracy: 0.9148\n",
            "Epoch 28/130\n",
            "64/64 [==============================] - 0s 4ms/step - loss: 0.2438 - accuracy: 0.9207\n",
            "Epoch 29/130\n",
            "64/64 [==============================] - 0s 4ms/step - loss: 0.2337 - accuracy: 0.9227\n",
            "Epoch 30/130\n",
            "64/64 [==============================] - 0s 4ms/step - loss: 0.2043 - accuracy: 0.9311\n",
            "Epoch 31/130\n",
            "64/64 [==============================] - 0s 4ms/step - loss: 0.1927 - accuracy: 0.9325\n",
            "Epoch 32/130\n",
            "64/64 [==============================] - 0s 4ms/step - loss: 0.1842 - accuracy: 0.9414\n",
            "Epoch 33/130\n",
            "64/64 [==============================] - 0s 4ms/step - loss: 0.1827 - accuracy: 0.9380\n",
            "Epoch 34/130\n",
            "64/64 [==============================] - 0s 4ms/step - loss: 0.1939 - accuracy: 0.9355\n",
            "Epoch 35/130\n",
            "64/64 [==============================] - 0s 4ms/step - loss: 0.1876 - accuracy: 0.9394\n",
            "Epoch 36/130\n",
            "64/64 [==============================] - 0s 4ms/step - loss: 0.1844 - accuracy: 0.9394\n",
            "Epoch 37/130\n",
            "64/64 [==============================] - 0s 4ms/step - loss: 0.1719 - accuracy: 0.9394\n",
            "Epoch 38/130\n",
            "64/64 [==============================] - 0s 4ms/step - loss: 0.1798 - accuracy: 0.9375\n",
            "Epoch 39/130\n",
            "64/64 [==============================] - 0s 4ms/step - loss: 0.1631 - accuracy: 0.9463\n",
            "Epoch 40/130\n",
            "64/64 [==============================] - 0s 3ms/step - loss: 0.1680 - accuracy: 0.9380\n",
            "Epoch 41/130\n",
            "64/64 [==============================] - 0s 4ms/step - loss: 0.1721 - accuracy: 0.9434\n",
            "Epoch 42/130\n",
            "64/64 [==============================] - 0s 4ms/step - loss: 0.1494 - accuracy: 0.9503\n",
            "Epoch 43/130\n",
            "64/64 [==============================] - 0s 4ms/step - loss: 0.1476 - accuracy: 0.9503\n",
            "Epoch 44/130\n",
            "64/64 [==============================] - 0s 3ms/step - loss: 0.1370 - accuracy: 0.9527\n",
            "Epoch 45/130\n",
            "64/64 [==============================] - 0s 4ms/step - loss: 0.1342 - accuracy: 0.9552\n",
            "Epoch 46/130\n",
            "64/64 [==============================] - 0s 4ms/step - loss: 0.1319 - accuracy: 0.9537\n",
            "Epoch 47/130\n",
            "64/64 [==============================] - 0s 4ms/step - loss: 0.1428 - accuracy: 0.9522\n",
            "Epoch 48/130\n",
            "64/64 [==============================] - 0s 4ms/step - loss: 0.1400 - accuracy: 0.9532\n",
            "Epoch 49/130\n",
            "64/64 [==============================] - 0s 3ms/step - loss: 0.1303 - accuracy: 0.9577\n",
            "Epoch 50/130\n",
            "64/64 [==============================] - 0s 4ms/step - loss: 0.1377 - accuracy: 0.9498\n",
            "Epoch 51/130\n",
            "64/64 [==============================] - 0s 4ms/step - loss: 0.1361 - accuracy: 0.9532\n",
            "Epoch 52/130\n",
            "64/64 [==============================] - 0s 4ms/step - loss: 0.1380 - accuracy: 0.9532\n",
            "Epoch 53/130\n",
            "64/64 [==============================] - 0s 4ms/step - loss: 0.1219 - accuracy: 0.9606\n",
            "Epoch 54/130\n",
            "64/64 [==============================] - 0s 4ms/step - loss: 0.1148 - accuracy: 0.9591\n",
            "Epoch 55/130\n",
            "64/64 [==============================] - 0s 4ms/step - loss: 0.1196 - accuracy: 0.9591\n",
            "Epoch 56/130\n",
            "64/64 [==============================] - 0s 3ms/step - loss: 0.1426 - accuracy: 0.9547\n",
            "Epoch 57/130\n",
            "64/64 [==============================] - 0s 4ms/step - loss: 0.1273 - accuracy: 0.9621\n",
            "Epoch 58/130\n",
            "64/64 [==============================] - 0s 4ms/step - loss: 0.1130 - accuracy: 0.9650\n",
            "Epoch 59/130\n",
            "64/64 [==============================] - 0s 4ms/step - loss: 0.1145 - accuracy: 0.9645\n",
            "Epoch 60/130\n",
            "64/64 [==============================] - 0s 4ms/step - loss: 0.1164 - accuracy: 0.9611\n",
            "Epoch 61/130\n",
            "64/64 [==============================] - 0s 4ms/step - loss: 0.1181 - accuracy: 0.9581\n",
            "Epoch 62/130\n",
            "64/64 [==============================] - 0s 4ms/step - loss: 0.1178 - accuracy: 0.9611\n",
            "Epoch 63/130\n",
            "64/64 [==============================] - 0s 4ms/step - loss: 0.1108 - accuracy: 0.9685\n",
            "Epoch 64/130\n",
            "64/64 [==============================] - 0s 4ms/step - loss: 0.1076 - accuracy: 0.9611\n",
            "Epoch 65/130\n",
            "64/64 [==============================] - 0s 4ms/step - loss: 0.0981 - accuracy: 0.9650\n",
            "Epoch 66/130\n",
            "64/64 [==============================] - 0s 4ms/step - loss: 0.1042 - accuracy: 0.9631\n",
            "Epoch 67/130\n",
            "64/64 [==============================] - 0s 4ms/step - loss: 0.0964 - accuracy: 0.9685\n",
            "Epoch 68/130\n",
            "64/64 [==============================] - 0s 4ms/step - loss: 0.0901 - accuracy: 0.9700\n",
            "Epoch 69/130\n",
            "64/64 [==============================] - 0s 4ms/step - loss: 0.1006 - accuracy: 0.9680\n",
            "Epoch 70/130\n",
            "64/64 [==============================] - 0s 4ms/step - loss: 0.0886 - accuracy: 0.9729\n",
            "Epoch 71/130\n",
            "64/64 [==============================] - 0s 4ms/step - loss: 0.1114 - accuracy: 0.9626\n",
            "Epoch 72/130\n",
            "64/64 [==============================] - 0s 4ms/step - loss: 0.0973 - accuracy: 0.9655\n",
            "Epoch 73/130\n",
            "64/64 [==============================] - 0s 4ms/step - loss: 0.1113 - accuracy: 0.9626\n",
            "Epoch 74/130\n",
            "64/64 [==============================] - 0s 4ms/step - loss: 0.1123 - accuracy: 0.9596\n",
            "Epoch 75/130\n",
            "64/64 [==============================] - 0s 4ms/step - loss: 0.0932 - accuracy: 0.9719\n",
            "Epoch 76/130\n",
            "64/64 [==============================] - 0s 4ms/step - loss: 0.1063 - accuracy: 0.9645\n",
            "Epoch 77/130\n",
            "64/64 [==============================] - 0s 4ms/step - loss: 0.1057 - accuracy: 0.9675\n",
            "Epoch 78/130\n",
            "64/64 [==============================] - 0s 4ms/step - loss: 0.0945 - accuracy: 0.9710\n",
            "Epoch 79/130\n",
            "64/64 [==============================] - 0s 4ms/step - loss: 0.0891 - accuracy: 0.9675\n",
            "Epoch 80/130\n",
            "64/64 [==============================] - 0s 4ms/step - loss: 0.0976 - accuracy: 0.9626\n",
            "Epoch 81/130\n",
            "64/64 [==============================] - 0s 4ms/step - loss: 0.0764 - accuracy: 0.9744\n",
            "Epoch 82/130\n",
            "64/64 [==============================] - 0s 3ms/step - loss: 0.0880 - accuracy: 0.9719\n",
            "Epoch 83/130\n",
            "64/64 [==============================] - 0s 4ms/step - loss: 0.0831 - accuracy: 0.9710\n",
            "Epoch 84/130\n",
            "64/64 [==============================] - 0s 3ms/step - loss: 0.0903 - accuracy: 0.9729\n",
            "Epoch 85/130\n",
            "64/64 [==============================] - 0s 4ms/step - loss: 0.0974 - accuracy: 0.9641\n",
            "Epoch 86/130\n",
            "64/64 [==============================] - 0s 4ms/step - loss: 0.0763 - accuracy: 0.9739\n",
            "Epoch 87/130\n",
            "64/64 [==============================] - 0s 4ms/step - loss: 0.0864 - accuracy: 0.9700\n",
            "Epoch 88/130\n",
            "64/64 [==============================] - 0s 4ms/step - loss: 0.0798 - accuracy: 0.9729\n",
            "Epoch 89/130\n",
            "64/64 [==============================] - 0s 4ms/step - loss: 0.0804 - accuracy: 0.9744\n",
            "Epoch 90/130\n",
            "64/64 [==============================] - 0s 4ms/step - loss: 0.0929 - accuracy: 0.9710\n",
            "Epoch 91/130\n",
            "64/64 [==============================] - 0s 4ms/step - loss: 0.0843 - accuracy: 0.9700\n",
            "Epoch 92/130\n",
            "64/64 [==============================] - 0s 4ms/step - loss: 0.0671 - accuracy: 0.9798\n",
            "Epoch 93/130\n",
            "64/64 [==============================] - 0s 4ms/step - loss: 0.0835 - accuracy: 0.9719\n",
            "Epoch 94/130\n",
            "64/64 [==============================] - 0s 4ms/step - loss: 0.0711 - accuracy: 0.9749\n",
            "Epoch 95/130\n",
            "64/64 [==============================] - 0s 4ms/step - loss: 0.0871 - accuracy: 0.9685\n",
            "Epoch 96/130\n",
            "64/64 [==============================] - 0s 4ms/step - loss: 0.0824 - accuracy: 0.9710\n",
            "Epoch 97/130\n",
            "64/64 [==============================] - 0s 4ms/step - loss: 0.0636 - accuracy: 0.9783\n",
            "Epoch 98/130\n",
            "64/64 [==============================] - 0s 4ms/step - loss: 0.0641 - accuracy: 0.9788\n",
            "Epoch 99/130\n",
            "64/64 [==============================] - 0s 4ms/step - loss: 0.0732 - accuracy: 0.9729\n",
            "Epoch 100/130\n",
            "64/64 [==============================] - 0s 4ms/step - loss: 0.0700 - accuracy: 0.9734\n",
            "Epoch 101/130\n",
            "64/64 [==============================] - 0s 4ms/step - loss: 0.0773 - accuracy: 0.9754\n",
            "Epoch 102/130\n",
            "64/64 [==============================] - 0s 4ms/step - loss: 0.0681 - accuracy: 0.9769\n",
            "Epoch 103/130\n",
            "64/64 [==============================] - 0s 4ms/step - loss: 0.0551 - accuracy: 0.9842\n",
            "Epoch 104/130\n",
            "64/64 [==============================] - 0s 4ms/step - loss: 0.0750 - accuracy: 0.9734\n",
            "Epoch 105/130\n",
            "64/64 [==============================] - 0s 4ms/step - loss: 0.0884 - accuracy: 0.9690\n",
            "Epoch 106/130\n",
            "64/64 [==============================] - 0s 4ms/step - loss: 0.0871 - accuracy: 0.9660\n",
            "Epoch 107/130\n",
            "64/64 [==============================] - 0s 4ms/step - loss: 0.0777 - accuracy: 0.9749\n",
            "Epoch 108/130\n",
            "64/64 [==============================] - 0s 4ms/step - loss: 0.0802 - accuracy: 0.9734\n",
            "Epoch 109/130\n",
            "64/64 [==============================] - 0s 4ms/step - loss: 0.0842 - accuracy: 0.9705\n",
            "Epoch 110/130\n",
            "64/64 [==============================] - 0s 4ms/step - loss: 0.1005 - accuracy: 0.9700\n",
            "Epoch 111/130\n",
            "64/64 [==============================] - 0s 4ms/step - loss: 0.0779 - accuracy: 0.9774\n",
            "Epoch 112/130\n",
            "64/64 [==============================] - 0s 4ms/step - loss: 0.0752 - accuracy: 0.9714\n",
            "Epoch 113/130\n",
            "64/64 [==============================] - 0s 4ms/step - loss: 0.0674 - accuracy: 0.9759\n",
            "Epoch 114/130\n",
            "64/64 [==============================] - 0s 4ms/step - loss: 0.0637 - accuracy: 0.9759\n",
            "Epoch 115/130\n",
            "64/64 [==============================] - 0s 4ms/step - loss: 0.0772 - accuracy: 0.9749\n",
            "Epoch 116/130\n",
            "64/64 [==============================] - 0s 4ms/step - loss: 0.0811 - accuracy: 0.9724\n",
            "Epoch 117/130\n",
            "64/64 [==============================] - 0s 4ms/step - loss: 0.0828 - accuracy: 0.9749\n",
            "Epoch 118/130\n",
            "64/64 [==============================] - 0s 4ms/step - loss: 0.0763 - accuracy: 0.9783\n",
            "Epoch 119/130\n",
            "64/64 [==============================] - 0s 4ms/step - loss: 0.0754 - accuracy: 0.9759\n",
            "Epoch 120/130\n",
            "64/64 [==============================] - 0s 4ms/step - loss: 0.0618 - accuracy: 0.9769\n",
            "Epoch 121/130\n",
            "64/64 [==============================] - 0s 4ms/step - loss: 0.0514 - accuracy: 0.9847\n",
            "Epoch 122/130\n",
            "64/64 [==============================] - 0s 4ms/step - loss: 0.0693 - accuracy: 0.9729\n",
            "Epoch 123/130\n",
            "64/64 [==============================] - 0s 4ms/step - loss: 0.0696 - accuracy: 0.9769\n",
            "Epoch 124/130\n",
            "64/64 [==============================] - 0s 4ms/step - loss: 0.0553 - accuracy: 0.9833\n",
            "Epoch 125/130\n",
            "64/64 [==============================] - 0s 4ms/step - loss: 0.0589 - accuracy: 0.9823\n",
            "Epoch 126/130\n",
            "64/64 [==============================] - 0s 4ms/step - loss: 0.0700 - accuracy: 0.9749\n",
            "Epoch 127/130\n",
            "64/64 [==============================] - 0s 4ms/step - loss: 0.0646 - accuracy: 0.9798\n",
            "Epoch 128/130\n",
            "64/64 [==============================] - 0s 4ms/step - loss: 0.0507 - accuracy: 0.9833\n",
            "Epoch 129/130\n",
            "64/64 [==============================] - 0s 4ms/step - loss: 0.0602 - accuracy: 0.9793\n",
            "Epoch 130/130\n",
            "64/64 [==============================] - 0s 4ms/step - loss: 0.0523 - accuracy: 0.9823\n"
          ],
          "name": "stdout"
        },
        {
          "output_type": "execute_result",
          "data": {
            "text/plain": [
              "<tensorflow.python.keras.callbacks.History at 0x7f1b604fc128>"
            ]
          },
          "metadata": {
            "tags": []
          },
          "execution_count": 21
        }
      ]
    },
    {
      "cell_type": "markdown",
      "metadata": {
        "id": "lex4IN_Xs36o",
        "colab_type": "text"
      },
      "source": [
        "On average the first model leads to accuracy of around 0.8 on the test set"
      ]
    },
    {
      "cell_type": "code",
      "metadata": {
        "id": "SwJwfV6ss36p",
        "colab_type": "code",
        "outputId": "8f76a55a-ed8a-4cf0-80c3-8677ea6bb9f0",
        "colab": {
          "base_uri": "https://localhost:8080/",
          "height": 50
        }
      },
      "source": [
        "clf1.evaluate(x_test, y_test)"
      ],
      "execution_count": 0,
      "outputs": [
        {
          "output_type": "stream",
          "text": [
            "22/22 [==============================] - 0s 3ms/step - loss: 1.4967 - accuracy: 0.8035\n"
          ],
          "name": "stdout"
        },
        {
          "output_type": "execute_result",
          "data": {
            "text/plain": [
              "[1.4966752529144287, 0.8035450577735901]"
            ]
          },
          "metadata": {
            "tags": []
          },
          "execution_count": 22
        }
      ]
    },
    {
      "cell_type": "markdown",
      "metadata": {
        "id": "ogLiwnz6s36u",
        "colab_type": "text"
      },
      "source": [
        "## Second approach: Embeddings && BoW as input\n",
        "---\n",
        "The idea is to to use both the emeddings and the Bag of Words as input to the neural network. However, BoW is very sparse and its dimensions are too large. That is why we reduce the dimensions using SelectPercentile from sklearn."
      ]
    },
    {
      "cell_type": "code",
      "metadata": {
        "id": "k07F5p851GoZ",
        "colab_type": "code",
        "colab": {}
      },
      "source": [
        "x = np.arange(num_nodes)\n",
        "x1_train, x1_test, x2_train, x2_test, y_train, y_test = train_test_split(x, bow, labels, test_size = 0.25)\n",
        "\n",
        "percentile = SelectPercentile(chi2, percentile=20)\n",
        "x2_train_reduced = percentile.fit_transform(x2_train, y_train)\n",
        "mask = percentile.get_support()\n",
        "num_bow = x2_train_reduced.shape[1]\n",
        "x2_test_reduced = x2_test[:, mask]\n"
      ],
      "execution_count": 0,
      "outputs": []
    },
    {
      "cell_type": "markdown",
      "metadata": {
        "id": "TQLC73LWs361",
        "colab_type": "text"
      },
      "source": [
        "In this model, the embeddings and the reduces BoWs are conctenated as the input to the first fully connected layer."
      ]
    },
    {
      "cell_type": "code",
      "metadata": {
        "id": "wGoAeKbJs362",
        "colab_type": "code",
        "colab": {}
      },
      "source": [
        "def create_clf2(dropout):\n",
        "    \n",
        "    embedding_layer = Embedding(input_dim = num_nodes,\n",
        "                            output_dim = emb_dim,\n",
        "                            weights=[emb_weights],\n",
        "                            trainable=False,\n",
        "                            input_length = 1)\n",
        "    \n",
        "    input1 = Input(shape = ())#shape = None)\n",
        "    x1 = embedding_layer(input1)\n",
        "    \n",
        "    input2 = Input(shape = (num_bow,))\n",
        "    x = Concatenate(axis = 1) ([x1, input2])\n",
        "    \n",
        "    x = Dense(256, activation = 'relu') (x)\n",
        "    x = Dropout(dropout) (x)\n",
        "    x = Dense(128, activation = 'relu') (x)\n",
        "    x = Dropout(dropout) (x)\n",
        "    output = Dense(num_classes, activation = 'softmax') (x)\n",
        "    \n",
        "    clf = Model(inputs = [input1, input2], outputs = [output])\n",
        "    \n",
        "    clf.compile(optimizer = 'adam', loss = 'categorical_crossentropy', metrics = ['accuracy'])\n",
        "    \n",
        "    return clf"
      ],
      "execution_count": 0,
      "outputs": []
    },
    {
      "cell_type": "code",
      "metadata": {
        "id": "E2uYNkcRs364",
        "colab_type": "code",
        "outputId": "02dd3a37-5aaf-4235-d6ee-f7f4a74d36e1",
        "colab": {
          "base_uri": "https://localhost:8080/",
          "height": 470
        }
      },
      "source": [
        "clf2 = create_clf2(0.6)\n",
        "clf2.summary()"
      ],
      "execution_count": 116,
      "outputs": [
        {
          "output_type": "stream",
          "text": [
            "Model: \"model_13\"\n",
            "__________________________________________________________________________________________________\n",
            "Layer (type)                    Output Shape         Param #     Connected to                     \n",
            "==================================================================================================\n",
            "input_26 (InputLayer)           [(None,)]            0                                            \n",
            "__________________________________________________________________________________________________\n",
            "embedding_13 (Embedding)        (None, 256)          693248      input_26[0][0]                   \n",
            "__________________________________________________________________________________________________\n",
            "input_27 (InputLayer)           [(None, 287)]        0                                            \n",
            "__________________________________________________________________________________________________\n",
            "concatenate_12 (Concatenate)    (None, 543)          0           embedding_13[0][0]               \n",
            "                                                                 input_27[0][0]                   \n",
            "__________________________________________________________________________________________________\n",
            "dense_39 (Dense)                (None, 256)          139264      concatenate_12[0][0]             \n",
            "__________________________________________________________________________________________________\n",
            "dropout_26 (Dropout)            (None, 256)          0           dense_39[0][0]                   \n",
            "__________________________________________________________________________________________________\n",
            "dense_40 (Dense)                (None, 128)          32896       dropout_26[0][0]                 \n",
            "__________________________________________________________________________________________________\n",
            "dropout_27 (Dropout)            (None, 128)          0           dense_40[0][0]                   \n",
            "__________________________________________________________________________________________________\n",
            "dense_41 (Dense)                (None, 7)            903         dropout_27[0][0]                 \n",
            "==================================================================================================\n",
            "Total params: 866,311\n",
            "Trainable params: 173,063\n",
            "Non-trainable params: 693,248\n",
            "__________________________________________________________________________________________________\n"
          ],
          "name": "stdout"
        }
      ]
    },
    {
      "cell_type": "code",
      "metadata": {
        "collapsed": true,
        "id": "1brrn-SPs366",
        "colab_type": "code",
        "outputId": "5fe5c3a1-0ae9-4b3e-a835-6331a33ae8b0",
        "colab": {
          "base_uri": "https://localhost:8080/",
          "height": 865
        }
      },
      "source": [
        "keras.utils.plot_model(clf2, to_file='model_plot.png', show_shapes=True, show_layer_names=True)"
      ],
      "execution_count": 0,
      "outputs": [
        {
          "output_type": "execute_result",
          "data": {
            "image/png": "[encoded data removed]",
            "text/plain": [
              "<IPython.core.display.Image object>"
            ]
          },
          "metadata": {
            "tags": []
          },
          "execution_count": 99
        }
      ]
    },
    {
      "cell_type": "code",
      "metadata": {
        "id": "AZMb_cA-s369",
        "colab_type": "code",
        "colab": {}
      },
      "source": [
        "x = np.arange(num_nodes)\n",
        "\n",
        "x1_train, x1_test, x2_train, x2_test, y_train, y_test = train_test_split(x, bow_reduced, labels, test_size = 0.25)"
      ],
      "execution_count": 0,
      "outputs": []
    },
    {
      "cell_type": "code",
      "metadata": {
        "id": "EC79wMM4s37A",
        "colab_type": "code",
        "outputId": "1d0e6c41-a3d8-41c5-cd5a-dc7d75ec5755",
        "colab": {
          "base_uri": "https://localhost:8080/",
          "height": 118
        }
      },
      "source": [
        "print(x1_train.shape)\n",
        "print(x1_test.shape)\n",
        "print(x2_train.shape)\n",
        "print(x2_test.shape)\n",
        "print(y_train.shape)\n",
        "print(y_test.shape)"
      ],
      "execution_count": 0,
      "outputs": [
        {
          "output_type": "stream",
          "text": [
            "(2031,)\n",
            "(677,)\n",
            "(2031, 512)\n",
            "(677, 512)\n",
            "(2031, 7)\n",
            "(677, 7)\n"
          ],
          "name": "stdout"
        }
      ]
    },
    {
      "cell_type": "code",
      "metadata": {
        "id": "GVeHIaqEs37C",
        "colab_type": "code",
        "outputId": "7d103579-d90b-4a15-cf54-676c1573e37d",
        "colab": {
          "base_uri": "https://localhost:8080/",
          "height": 1000
        }
      },
      "source": [
        "clf2.fit([x1_train, x2_train_reduced],  y_train, epochs = 100, batch_size = 64)"
      ],
      "execution_count": 120,
      "outputs": [
        {
          "output_type": "stream",
          "text": [
            "Epoch 1/100\n",
            "32/32 [==============================] - 0s 4ms/step - loss: 1.0466 - accuracy: 0.7646\n",
            "Epoch 2/100\n",
            "32/32 [==============================] - 0s 4ms/step - loss: 0.5266 - accuracy: 0.8351\n",
            "Epoch 3/100\n",
            "32/32 [==============================] - 0s 4ms/step - loss: 0.4238 - accuracy: 0.8744\n",
            "Epoch 4/100\n",
            "32/32 [==============================] - 0s 4ms/step - loss: 0.3456 - accuracy: 0.8932\n",
            "Epoch 5/100\n",
            "32/32 [==============================] - 0s 4ms/step - loss: 0.3198 - accuracy: 0.9025\n",
            "Epoch 6/100\n",
            "32/32 [==============================] - 0s 4ms/step - loss: 0.2795 - accuracy: 0.9138\n",
            "Epoch 7/100\n",
            "32/32 [==============================] - 0s 4ms/step - loss: 0.2207 - accuracy: 0.9311\n",
            "Epoch 8/100\n",
            "32/32 [==============================] - 0s 4ms/step - loss: 0.2268 - accuracy: 0.9281\n",
            "Epoch 9/100\n",
            "32/32 [==============================] - 0s 4ms/step - loss: 0.1863 - accuracy: 0.9404\n",
            "Epoch 10/100\n",
            "32/32 [==============================] - 0s 4ms/step - loss: 0.1967 - accuracy: 0.9444\n",
            "Epoch 11/100\n",
            "32/32 [==============================] - 0s 4ms/step - loss: 0.1688 - accuracy: 0.9468\n",
            "Epoch 12/100\n",
            "32/32 [==============================] - 0s 4ms/step - loss: 0.1451 - accuracy: 0.9503\n",
            "Epoch 13/100\n",
            "32/32 [==============================] - 0s 4ms/step - loss: 0.1314 - accuracy: 0.9567\n",
            "Epoch 14/100\n",
            "32/32 [==============================] - 0s 4ms/step - loss: 0.1149 - accuracy: 0.9621\n",
            "Epoch 15/100\n",
            "32/32 [==============================] - 0s 4ms/step - loss: 0.1230 - accuracy: 0.9621\n",
            "Epoch 16/100\n",
            "32/32 [==============================] - 0s 4ms/step - loss: 0.1011 - accuracy: 0.9685\n",
            "Epoch 17/100\n",
            "32/32 [==============================] - 0s 4ms/step - loss: 0.1083 - accuracy: 0.9680\n",
            "Epoch 18/100\n",
            "32/32 [==============================] - 0s 4ms/step - loss: 0.1197 - accuracy: 0.9626\n",
            "Epoch 19/100\n",
            "32/32 [==============================] - 0s 5ms/step - loss: 0.1036 - accuracy: 0.9650\n",
            "Epoch 20/100\n",
            "32/32 [==============================] - 0s 4ms/step - loss: 0.0825 - accuracy: 0.9739\n",
            "Epoch 21/100\n",
            "32/32 [==============================] - 0s 4ms/step - loss: 0.0791 - accuracy: 0.9729\n",
            "Epoch 22/100\n",
            "32/32 [==============================] - 0s 4ms/step - loss: 0.0890 - accuracy: 0.9714\n",
            "Epoch 23/100\n",
            "32/32 [==============================] - 0s 4ms/step - loss: 0.0701 - accuracy: 0.9774\n",
            "Epoch 24/100\n",
            "32/32 [==============================] - 0s 4ms/step - loss: 0.0894 - accuracy: 0.9705\n",
            "Epoch 25/100\n",
            "32/32 [==============================] - 0s 4ms/step - loss: 0.0779 - accuracy: 0.9759\n",
            "Epoch 26/100\n",
            "32/32 [==============================] - 0s 4ms/step - loss: 0.0710 - accuracy: 0.9788\n",
            "Epoch 27/100\n",
            "32/32 [==============================] - 0s 4ms/step - loss: 0.0826 - accuracy: 0.9783\n",
            "Epoch 28/100\n",
            "32/32 [==============================] - 0s 4ms/step - loss: 0.0621 - accuracy: 0.9798\n",
            "Epoch 29/100\n",
            "32/32 [==============================] - 0s 4ms/step - loss: 0.0592 - accuracy: 0.9838\n",
            "Epoch 30/100\n",
            "32/32 [==============================] - 0s 4ms/step - loss: 0.0732 - accuracy: 0.9788\n",
            "Epoch 31/100\n",
            "32/32 [==============================] - 0s 4ms/step - loss: 0.0553 - accuracy: 0.9852\n",
            "Epoch 32/100\n",
            "32/32 [==============================] - 0s 4ms/step - loss: 0.0499 - accuracy: 0.9867\n",
            "Epoch 33/100\n",
            "32/32 [==============================] - 0s 4ms/step - loss: 0.0595 - accuracy: 0.9862\n",
            "Epoch 34/100\n",
            "32/32 [==============================] - 0s 4ms/step - loss: 0.0576 - accuracy: 0.9828\n",
            "Epoch 35/100\n",
            "32/32 [==============================] - 0s 4ms/step - loss: 0.0688 - accuracy: 0.9793\n",
            "Epoch 36/100\n",
            "32/32 [==============================] - 0s 4ms/step - loss: 0.0540 - accuracy: 0.9838\n",
            "Epoch 37/100\n",
            "32/32 [==============================] - 0s 4ms/step - loss: 0.0815 - accuracy: 0.9818\n",
            "Epoch 38/100\n",
            "32/32 [==============================] - 0s 4ms/step - loss: 0.0572 - accuracy: 0.9823\n",
            "Epoch 39/100\n",
            "32/32 [==============================] - 0s 4ms/step - loss: 0.0691 - accuracy: 0.9813\n",
            "Epoch 40/100\n",
            "32/32 [==============================] - 0s 4ms/step - loss: 0.0512 - accuracy: 0.9872\n",
            "Epoch 41/100\n",
            "32/32 [==============================] - 0s 4ms/step - loss: 0.0628 - accuracy: 0.9798\n",
            "Epoch 42/100\n",
            "32/32 [==============================] - 0s 4ms/step - loss: 0.0658 - accuracy: 0.9818\n",
            "Epoch 43/100\n",
            "32/32 [==============================] - 0s 4ms/step - loss: 0.0522 - accuracy: 0.9838\n",
            "Epoch 44/100\n",
            "32/32 [==============================] - 0s 4ms/step - loss: 0.0595 - accuracy: 0.9852\n",
            "Epoch 45/100\n",
            "32/32 [==============================] - 0s 4ms/step - loss: 0.0674 - accuracy: 0.9818\n",
            "Epoch 46/100\n",
            "32/32 [==============================] - 0s 4ms/step - loss: 0.0500 - accuracy: 0.9842\n",
            "Epoch 47/100\n",
            "32/32 [==============================] - 0s 4ms/step - loss: 0.0507 - accuracy: 0.9862\n",
            "Epoch 48/100\n",
            "32/32 [==============================] - 0s 4ms/step - loss: 0.0438 - accuracy: 0.9877\n",
            "Epoch 49/100\n",
            "32/32 [==============================] - 0s 4ms/step - loss: 0.0422 - accuracy: 0.9867\n",
            "Epoch 50/100\n",
            "32/32 [==============================] - 0s 4ms/step - loss: 0.0401 - accuracy: 0.9872\n",
            "Epoch 51/100\n",
            "32/32 [==============================] - 0s 4ms/step - loss: 0.0578 - accuracy: 0.9838\n",
            "Epoch 52/100\n",
            "32/32 [==============================] - 0s 4ms/step - loss: 0.0515 - accuracy: 0.9813\n",
            "Epoch 53/100\n",
            "32/32 [==============================] - 0s 4ms/step - loss: 0.0557 - accuracy: 0.9857\n",
            "Epoch 54/100\n",
            "32/32 [==============================] - 0s 4ms/step - loss: 0.0467 - accuracy: 0.9857\n",
            "Epoch 55/100\n",
            "32/32 [==============================] - 0s 4ms/step - loss: 0.0458 - accuracy: 0.9857\n",
            "Epoch 56/100\n",
            "32/32 [==============================] - 0s 4ms/step - loss: 0.0467 - accuracy: 0.9842\n",
            "Epoch 57/100\n",
            "32/32 [==============================] - 0s 4ms/step - loss: 0.0452 - accuracy: 0.9857\n",
            "Epoch 58/100\n",
            "32/32 [==============================] - 0s 4ms/step - loss: 0.0392 - accuracy: 0.9877\n",
            "Epoch 59/100\n",
            "32/32 [==============================] - 0s 4ms/step - loss: 0.0343 - accuracy: 0.9892\n",
            "Epoch 60/100\n",
            "32/32 [==============================] - 0s 4ms/step - loss: 0.0378 - accuracy: 0.9882\n",
            "Epoch 61/100\n",
            "32/32 [==============================] - 0s 4ms/step - loss: 0.0425 - accuracy: 0.9877\n",
            "Epoch 62/100\n",
            "32/32 [==============================] - 0s 4ms/step - loss: 0.0443 - accuracy: 0.9842\n",
            "Epoch 63/100\n",
            "32/32 [==============================] - 0s 4ms/step - loss: 0.0510 - accuracy: 0.9862\n",
            "Epoch 64/100\n",
            "32/32 [==============================] - 0s 4ms/step - loss: 0.0492 - accuracy: 0.9862\n",
            "Epoch 65/100\n",
            "32/32 [==============================] - 0s 5ms/step - loss: 0.0356 - accuracy: 0.9887\n",
            "Epoch 66/100\n",
            "32/32 [==============================] - 0s 4ms/step - loss: 0.0254 - accuracy: 0.9916\n",
            "Epoch 67/100\n",
            "32/32 [==============================] - 0s 4ms/step - loss: 0.0268 - accuracy: 0.9906\n",
            "Epoch 68/100\n",
            "32/32 [==============================] - 0s 4ms/step - loss: 0.0386 - accuracy: 0.9887\n",
            "Epoch 69/100\n",
            "32/32 [==============================] - 0s 4ms/step - loss: 0.0377 - accuracy: 0.9897\n",
            "Epoch 70/100\n",
            "32/32 [==============================] - 0s 4ms/step - loss: 0.0294 - accuracy: 0.9911\n",
            "Epoch 71/100\n",
            "32/32 [==============================] - 0s 4ms/step - loss: 0.0312 - accuracy: 0.9916\n",
            "Epoch 72/100\n",
            "32/32 [==============================] - 0s 5ms/step - loss: 0.0359 - accuracy: 0.9897\n",
            "Epoch 73/100\n",
            "32/32 [==============================] - 0s 4ms/step - loss: 0.0341 - accuracy: 0.9911\n",
            "Epoch 74/100\n",
            "32/32 [==============================] - 0s 4ms/step - loss: 0.0263 - accuracy: 0.9946\n",
            "Epoch 75/100\n",
            "32/32 [==============================] - 0s 4ms/step - loss: 0.0322 - accuracy: 0.9921\n",
            "Epoch 76/100\n",
            "32/32 [==============================] - 0s 4ms/step - loss: 0.0365 - accuracy: 0.9892\n",
            "Epoch 77/100\n",
            "32/32 [==============================] - 0s 4ms/step - loss: 0.0462 - accuracy: 0.9906\n",
            "Epoch 78/100\n",
            "32/32 [==============================] - 0s 4ms/step - loss: 0.0287 - accuracy: 0.9921\n",
            "Epoch 79/100\n",
            "32/32 [==============================] - 0s 5ms/step - loss: 0.0391 - accuracy: 0.9867\n",
            "Epoch 80/100\n",
            "32/32 [==============================] - 0s 5ms/step - loss: 0.0401 - accuracy: 0.9867\n",
            "Epoch 81/100\n",
            "32/32 [==============================] - 0s 4ms/step - loss: 0.0283 - accuracy: 0.9926\n",
            "Epoch 82/100\n",
            "32/32 [==============================] - 0s 4ms/step - loss: 0.0262 - accuracy: 0.9916\n",
            "Epoch 83/100\n",
            "32/32 [==============================] - 0s 4ms/step - loss: 0.0250 - accuracy: 0.9926\n",
            "Epoch 84/100\n",
            "32/32 [==============================] - 0s 4ms/step - loss: 0.0265 - accuracy: 0.9906\n",
            "Epoch 85/100\n",
            "32/32 [==============================] - 0s 4ms/step - loss: 0.0392 - accuracy: 0.9887\n",
            "Epoch 86/100\n",
            "32/32 [==============================] - 0s 4ms/step - loss: 0.0388 - accuracy: 0.9897\n",
            "Epoch 87/100\n",
            "32/32 [==============================] - 0s 4ms/step - loss: 0.0327 - accuracy: 0.9877\n",
            "Epoch 88/100\n",
            "32/32 [==============================] - 0s 4ms/step - loss: 0.0317 - accuracy: 0.9921\n",
            "Epoch 89/100\n",
            "32/32 [==============================] - 0s 4ms/step - loss: 0.0386 - accuracy: 0.9911\n",
            "Epoch 90/100\n",
            "32/32 [==============================] - 0s 4ms/step - loss: 0.0311 - accuracy: 0.9906\n",
            "Epoch 91/100\n",
            "32/32 [==============================] - 0s 4ms/step - loss: 0.0374 - accuracy: 0.9887\n",
            "Epoch 92/100\n",
            "32/32 [==============================] - 0s 4ms/step - loss: 0.0321 - accuracy: 0.9902\n",
            "Epoch 93/100\n",
            "32/32 [==============================] - 0s 4ms/step - loss: 0.0255 - accuracy: 0.9926\n",
            "Epoch 94/100\n",
            "32/32 [==============================] - 0s 5ms/step - loss: 0.0286 - accuracy: 0.9936\n",
            "Epoch 95/100\n",
            "32/32 [==============================] - 0s 4ms/step - loss: 0.0208 - accuracy: 0.9921\n",
            "Epoch 96/100\n",
            "32/32 [==============================] - 0s 4ms/step - loss: 0.0290 - accuracy: 0.9902\n",
            "Epoch 97/100\n",
            "32/32 [==============================] - 0s 4ms/step - loss: 0.0357 - accuracy: 0.9916\n",
            "Epoch 98/100\n",
            "32/32 [==============================] - 0s 4ms/step - loss: 0.0380 - accuracy: 0.9911\n",
            "Epoch 99/100\n",
            "32/32 [==============================] - 0s 4ms/step - loss: 0.0325 - accuracy: 0.9892\n",
            "Epoch 100/100\n",
            "32/32 [==============================] - 0s 4ms/step - loss: 0.0268 - accuracy: 0.9911\n"
          ],
          "name": "stdout"
        },
        {
          "output_type": "execute_result",
          "data": {
            "text/plain": [
              "<tensorflow.python.keras.callbacks.History at 0x7f1b0050ddd8>"
            ]
          },
          "metadata": {
            "tags": []
          },
          "execution_count": 120
        }
      ]
    },
    {
      "cell_type": "markdown",
      "metadata": {
        "id": "uIWpTBKgs37E",
        "colab_type": "text"
      },
      "source": [
        "On average the second model has 0.85 accuracy on the test set, 0.05 better than the first one."
      ]
    },
    {
      "cell_type": "code",
      "metadata": {
        "id": "IqU1Kxt3s37E",
        "colab_type": "code",
        "outputId": "439032c9-81ef-4b46-ea9c-3a76a2b40c24",
        "colab": {
          "base_uri": "https://localhost:8080/",
          "height": 50
        }
      },
      "source": [
        "clf2.evaluate([x1_test, x2_test_reduced], y_test)"
      ],
      "execution_count": 121,
      "outputs": [
        {
          "output_type": "stream",
          "text": [
            "22/22 [==============================] - 0s 3ms/step - loss: 0.7507 - accuracy: 0.8804\n"
          ],
          "name": "stdout"
        },
        {
          "output_type": "execute_result",
          "data": {
            "text/plain": [
              "[0.7506995797157288, 0.8803545236587524]"
            ]
          },
          "metadata": {
            "tags": []
          },
          "execution_count": 121
        }
      ]
    }
  ]
}